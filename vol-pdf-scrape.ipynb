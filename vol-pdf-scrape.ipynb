{
 "cells": [
  {
   "cell_type": "markdown",
   "metadata": {},
   "source": [
    "# Scraping Volume Data from PDFs\n",
    "\n",
    "##### Background\n",
    "At LADOT, we have a lot of historical (and relatively current) data on vehicle volume counts made at intersections throughout the city at various times. The problem is that the format the data are currently in - PDF - doesn't readily allow for the type of big data analyses that we would like to perform. So for this task I went about trying to develop a method for scraping these historical PDF counts and formatting them into usable data tables using any python package I could. I ended up settling on the pdfquery package, which is really just a lightweight wrapper around the much more well-known package PDFMiner.\n",
    "\n",
    "Here are two common formats for the volume data (converted to images for display here):"
   ]
  },
  {
   "cell_type": "markdown",
   "metadata": {},
   "source": [
    "##### Advantages\n",
    "One big advantage is that the (manual count) volume data sheets are generally in the same format. \n",
    "\n",
    "##### Challenges\n",
    "There are a few minor challenges:\n",
    "* There are multiple tables on each page, and each is formatted differently.\n",
    "* The tables / text do not always appear in the exact same location on each page, which meant I needed a range of parameters to test for the bounding boxes.\n",
    "\n",
    "##### General Approach"
   ]
  }
 ],
 "metadata": {
  "kernelspec": {
   "display_name": "python27",
   "language": "python",
   "name": "python27"
  },
  "language_info": {
   "codemirror_mode": {
    "name": "ipython",
    "version": 2
   },
   "file_extension": ".py",
   "mimetype": "text/x-python",
   "name": "python",
   "nbconvert_exporter": "python",
   "pygments_lexer": "ipython2",
   "version": "2.7.13"
  }
 },
 "nbformat": 4,
 "nbformat_minor": 2
}
