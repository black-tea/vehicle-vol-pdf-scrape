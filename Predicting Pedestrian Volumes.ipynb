{
 "cells": [
  {
   "cell_type": "markdown",
   "metadata": {},
   "source": [
    "# Machine Learning Engineer Nanodegree\n",
    "## Capstone Project\n",
    "Tim Black \n",
    "September 5, 2018"
   ]
  },
  {
   "cell_type": "markdown",
   "metadata": {},
   "source": [
    "## I. Definition\n",
    "\n",
    "### Project Overview\n",
    "In order for cities to plan transportation systems, they need to have robust data on the number of people using different modes of transport. This is especially important when the urban landscape changes, such as an increase in urban density, and cities need to plan for the changes in traffic that will arrive. Typically, cities collect data on the volume of vehicle, bicycle, and pedestrian traffic. Unfortunately, collecting these data is costly and time consuming, and in some cases impossible. Often transportation engineers and planners need to understand the consequences of different design decisions, such as the estimated effect of a traffic signal on safety. Since it is impossible to build out these alternatives and then perform volume counts, engineers and planners need a way to be able to estimate the effect of changes on pedestrian volume.\n",
    "\n",
    "Although many cities have models to estimate the effect of the built environment on pedestrian volume, they are typically at the scale of traffic analysis zones, a geographic scale much larger compared to the intersection. Intersection-based models exist for the following locations: San Francisco, CA (1,2); Charlotte, NC (3); Alameda County, CA (4); San Diego County, CA (5); Santa Monica, CA (6); and Quebec (7). Most of these intersection-based models use either a linear or log-linear model, and the most common features found to significantly affect pedestrian volumes include population density, employment density, and transit accessibility.\n",
    "\n",
    "Despite general agreement on the most important features, there are differences among the models on other significant features from the built environment. For example, the City of Santa Monica found the distance from the ocean to be a significant variable in prediction (6); it is highly unlikely that a landlocked city would find the significance in that variable. Even when the models agree on which features of the built environment are significant predictors, they often disagree on the extent to which they influence pedestrian volume. As suggested by Schneider et al., this variation should be addressed by creating models that are sensitive to the context of the local environment (2). Since there currently does not exist a model to predict pedestrian intersection volumes for the City of Los Angeles, my machine learning project aims to fill that gap.\n",
    "\n",
    "\n",
    "### Problem Statement\n",
    "For this project, my goal is to answer the following statement: What is the relationship between the built environment and the daily pedestrian volumes at intersections in the City of Los Angeles?\n",
    "\n",
    "\n",
    "### Metrics\n",
    "My proposed metric for evaluating my linear model is the r-squared score, the proportion of the variance in the dependent variable that is predictable given the features.  \n",
    "$${R}^2(y, \\hat{y} ) = 1 - \\frac{\\sum_{i=1}^{n} (y_i - \\hat{y})^{2}}{ \\sum_{i=1}^{n} (y_i - \\bar{y})^{2} }$$"
   ]
  },
  {
   "cell_type": "code",
   "execution_count": 1,
   "metadata": {},
   "outputs": [],
   "source": [
    "from sklearn.metrics import r2_score\n",
    "\n",
    "def performance_metric(y_true, y_predict):\n",
    "    \"\"\" Calculates and returns the performance score between \n",
    "        true and predicted values based on the metric chosen. \"\"\"\n",
    "    \n",
    "    # TODO: Calculate the performance score between 'y_true' and 'y_predict'\n",
    "    score = r2_score(y_true, y_predict)\n",
    "    \n",
    "    # Return the score\n",
    "    return score"
   ]
  },
  {
   "cell_type": "markdown",
   "metadata": {},
   "source": [
    "I will also compute the F-Value to ensure that the regression model provides a better fit to the data than a model that contains no independent variables."
   ]
  },
  {
   "cell_type": "markdown",
   "metadata": {},
   "source": [
    "## II. Data Assembly"
   ]
  },
  {
   "cell_type": "markdown",
   "metadata": {},
   "source": [
    "The Los Angeles Department of Transportation (LADOT) routinely collects volume data related to bicyclists, pedestrians, and motor vehicles for the purposes of transportation planning. Historically, these data have been stored in a PDF format, which makes it easy to digest a single traffic count, but prevents comparison and analysis of multiple counts. These PDF files are publicly available on the Navigate LA portal at http://navigatela.lacity.org/navigatela/. The first step to solving the proposed problem required extracting pedestrian volume from these sheets and storing it in a format that could be used in a model. \n",
    "\n",
    "I developed the following python pipeline below to read the pedestrian volume data from the PDF sheets and format them so they can be used in building the model. The daily volume (what I will be constructing a model to predict), is represented by the ‘volume’ attribute in the table.  Each row is a separate count event (‘count_id’), which occurs at an individual intersection (‘ASSETID’, ‘cl_node_id’)."
   ]
  },
  {
   "cell_type": "code",
   "execution_count": 20,
   "metadata": {},
   "outputs": [],
   "source": [
    "# here insert small image of PDF to show"
   ]
  },
  {
   "cell_type": "code",
   "execution_count": 10,
   "metadata": {
    "collapsed": true
   },
   "outputs": [],
   "source": [
    "import cv2\n",
    "import numpy as np\n",
    "from operator import itemgetter, attrgetter\n",
    "try:\n",
    "    import Image\n",
    "except ImportError:\n",
    "    from PIL import Image\n",
    "import pytesseract\n",
    "\n",
    "# Set path to tesseract executable\n",
    "pytesseract.pytesseract.tesseract_cmd = r'C:\\Program Files (x86)\\Tesseract-OCR\\tesseract'\n",
    "# Define config parameters.\n",
    "# '-l eng'  for using the English language\n",
    "# '--oem 1' for using LSTM OCR Engine\n",
    "config = ('-l eng --oem 0 --psm 10000 -c tessedit_char_whitelist=0123456789')\n",
    "\n",
    "def GetContours(img):\n",
    "    # Prep image\n",
    "    imgray = cv2.cvtColor(img, cv2.COLOR_BGR2GRAY)\n",
    "    ret, thresh = cv2.threshold(imgray, 127, 255, 0)\n",
    "    # Run contour analysis, sort by contour area (descending)\n",
    "    im2, contours, hierarchy = cv2.findContours(thresh, cv2.RETR_TREE, cv2.CHAIN_APPROX_SIMPLE)\n",
    "    contours = sorted(contours, key=cv2.contourArea, reverse = True)\n",
    "    return(contours)\n",
    "\n",
    "def CropImage(img, contour):\n",
    "    (x, y, w, h) = cv2.boundingRect(contour)\n",
    "    crop_img = img[y:y+h, x:x+w]\n",
    "    return(crop_img)\n",
    "\n",
    "def TesseractText(img):\n",
    "    text = pytesseract.image_to_string(img, config=config)\n",
    "    counts = list(map(int, text.split()))\n",
    "    return(counts)\n",
    "\n",
    "def ExtractCellVal(cells, img):\n",
    "    vol = []\n",
    "    # for each cell, crop & extract text\n",
    "    for cell in cells:\n",
    "        (x, y, w, h) = cell[1], cell[2], cell[3], cell[4]\n",
    "        crop_img = img[y:y+h, x:x+w]\n",
    "        val = TesseractText(crop_img)\n",
    "        vol.append(val[0])\n",
    "    return(vol)\n",
    "    \n",
    "def SortPedCells(contours):\n",
    "    # Get the bounding box of each contour\n",
    "    contour_list = []\n",
    "    contour_len = len(contours)\n",
    "    for contour in contours:\n",
    "        (x, y, w, h) = cv2.boundingRect(contour)\n",
    "        contour_list.append([contour, x, y, w, h])\n",
    "    contour_a = np.array(contour_list)\n",
    "    # Sort by x coordinate, split by number of columns (in this case, 2)\n",
    "    contour_a = contour_a[contour_a[:,1].argsort()]\n",
    "    pedvol = contour_a[:6]\n",
    "    schvol = contour_a[6:]\n",
    "    # Sort top to bottom (descending) by y coordinate\n",
    "    pedvol = pedvol[pedvol[:,2].argsort()]\n",
    "    schvol = schvol[schvol[:,2].argsort()]\n",
    "    return(pedvol, schvol)\n",
    "    \n",
    "def AnalyzePedCrossingTable(img, pedtbl_contour):\n",
    "    # Crop Image, get new contours\n",
    "    crop_img = CropImage(img, pedtbl_contour[0])\n",
    "    pedvol_contours = GetContours(crop_img)\n",
    "    pedvol_cells = pedvol_contours[2:14]\n",
    "    pedvol_cells, schvol_cells = SortPedCells(pedvol_cells)\n",
    "    pedvol = ExtractCellVal(pedvol_cells, crop_img)\n",
    "    schvol = ExtractCellVal(schvol_cells, crop_img)\n",
    "    return(dict([(\"Ped\", pedvol), (\"Sch\", schvol)]))\n",
    "    \n",
    "def GetPedData(img):\n",
    "    ped_tbl_contours = GetContours(img)[5:9]\n",
    "    ped_tbls = []\n",
    "    for ped_tbl_contour in ped_tbl_contours:\n",
    "        (x, y, w, h) = cv2.boundingRect(ped_tbl_contour)\n",
    "        ped_tbls.append([ped_tbl_contour, x, y, w, h])\n",
    "    ped_tbls = np.array(ped_tbls)\n",
    "    ped_tbls = sorted(ped_tbls, key=itemgetter(1))\n",
    "    ped_tbls = sorted(ped_tbls, key=itemgetter(2))\n",
    "    \n",
    "    ped_sch_extract = {}\n",
    "    ped_sch_extract['SL'] = AnalyzePedCrossingTable(img, ped_tbls[:1][0])\n",
    "    ped_sch_extract['NL'] = AnalyzePedCrossingTable(img, ped_tbls[1:2][0])\n",
    "    ped_sch_extract['WL'] = AnalyzePedCrossingTable(img, ped_tbls[2:3][0])\n",
    "    ped_sch_extract['EL'] = AnalyzePedCrossingTable(img, ped_tbls[3:4][0])\n",
    "    \n",
    "    # Format as final df\n",
    "    ped_sch_data = []\n",
    "    for leg in ped_sch_extract:\n",
    "        for pedtype in ped_sch_extract[leg]:\n",
    "\n",
    "            ped_sch_dict = {}\n",
    "            ped_sch_dict['xing_leg'] = leg\n",
    "            ped_sch_dict['type'] = pedtype\n",
    "            ped_sch_dict['volume'] = sum(ped_sch_extract[leg][pedtype])\n",
    "            ped_sch_data.append(ped_sch_dict)\n",
    "    \n",
    "    return(ped_sch_data)"
   ]
  },
  {
   "cell_type": "markdown",
   "metadata": {},
   "source": [
    "After extracting pedestrian volume data from these sheets, I assembled data from the built environment that I thought could possibly be significant in predicting pedestrian volume at intersections in Los Angeles. These data are public, but were assembled for a previous project at LADOT.  I looked to the literature review to inform the types of data to collect for evaluating. My built environment data (explanatory variables) include:\n",
    "* Population within 0.25 mi.  (‘SUM_POPTTL’)\n",
    "* Employment within 0.25 mi. (‘EMPTOT’)\n",
    "* Count of Schools within 0.25 mi. (‘SCH_CT’)\n",
    "* Presence of a traffic signal (‘SIG’, 1 = yes, 0 = no)\n",
    "* Count of transit stops within 100 ft. (‘TRANSITSTOP’)\n",
    "* Transit Ridership (‘RIDERSHIP’)\n",
    "\n",
    "I also dropped unneeded columns for the analysis. The final data set, which included both the extracted volumes and the built environment data, looked like the following:"
   ]
  },
  {
   "cell_type": "code",
   "execution_count": 57,
   "metadata": {},
   "outputs": [
    {
     "data": {
      "text/html": [
       "<div>\n",
       "<style scoped>\n",
       "    .dataframe tbody tr th:only-of-type {\n",
       "        vertical-align: middle;\n",
       "    }\n",
       "\n",
       "    .dataframe tbody tr th {\n",
       "        vertical-align: top;\n",
       "    }\n",
       "\n",
       "    .dataframe thead th {\n",
       "        text-align: right;\n",
       "    }\n",
       "</style>\n",
       "<table border=\"1\" class=\"dataframe\">\n",
       "  <thead>\n",
       "    <tr style=\"text-align: right;\">\n",
       "      <th></th>\n",
       "      <th>volume</th>\n",
       "      <th>SIG</th>\n",
       "      <th>TRANSITSTOP</th>\n",
       "      <th>RIDERSHIP</th>\n",
       "      <th>SCH_CT</th>\n",
       "      <th>EMPTOT</th>\n",
       "      <th>SUM_POPTTL</th>\n",
       "    </tr>\n",
       "  </thead>\n",
       "  <tbody>\n",
       "    <tr>\n",
       "      <th>0</th>\n",
       "      <td>9</td>\n",
       "      <td>1.0</td>\n",
       "      <td>1.0</td>\n",
       "      <td>4.0</td>\n",
       "      <td>0</td>\n",
       "      <td>211.024148</td>\n",
       "      <td>7.026113</td>\n",
       "    </tr>\n",
       "  </tbody>\n",
       "</table>\n",
       "</div>"
      ],
      "text/plain": [
       "   volume  SIG  TRANSITSTOP  RIDERSHIP  SCH_CT      EMPTOT  SUM_POPTTL\n",
       "0       9  1.0          1.0        4.0       0  211.024148    7.026113"
      ]
     },
     "execution_count": 57,
     "metadata": {},
     "output_type": "execute_result"
    }
   ],
   "source": [
    "# Import libraries\n",
    "%matplotlib inline\n",
    "import pandas as pd\n",
    "import numpy as np\n",
    "import matplotlib.pyplot as plt\n",
    "\n",
    "# Import assembled data\n",
    "raw_data = pd.read_csv('data/FeatureData/featurescombined.csv')\n",
    "\n",
    "# Drop Unnecessary columns, export final table\n",
    "raw_data = raw_data.drop(['Unnamed: 0', 'count_id','cl_node_id', 'traffic_id', 'type', 'location',\n",
    "                          'OBJECTID', 'ASSETID', 'CL_NODE_ID', 'FROM_ST', 'TO_ST', 'file'\n",
    "                         ], axis=1)\n",
    "raw_data.drop(['LAT','LON'], axis=1).head(n=1)"
   ]
  },
  {
   "cell_type": "markdown",
   "metadata": {},
   "source": [
    "#### Data Cleaning\n",
    "After completing the data assembly process, I inspected outlier values for the pedestrian volume counts, subsetting out those counts that are outside 3 standard deviations from the mean."
   ]
  },
  {
   "cell_type": "code",
   "execution_count": 54,
   "metadata": {},
   "outputs": [
    {
     "name": "stdout",
     "output_type": "stream",
     "text": [
      "There are 33 volume counts outside +/- 3 st.dev from the mean volume.\n"
     ]
    }
   ],
   "source": [
    "# keep only the ones that are outside +3 to -3 standard deviations of the mean volume\n",
    "outlier_volume = raw_data[np.abs(raw_data.volume-raw_data.volume.mean()) > (3*raw_data.volume.std())]\n",
    "print(\"There are \" + str(len(outlier_volume.index)) +\n",
    "      \" volume counts outside +/- 3 st.dev from the mean volume.\")"
   ]
  },
  {
   "cell_type": "markdown",
   "metadata": {},
   "source": [
    "I went back to the original PDF files to verify the count information and found 8 counts (of the 21 outliers) where the OCR failed to properly transcribe the values. I removed these 8 inaccurate counts from the dataset. Worried that there was a systematic error in my data processing, I randomly sampled 50 other volume totals. However, among those 50 sampled counts, 100% of them matched up with my totals in the data set. I concluded that the errors were mostly likely limited to those outlier totals."
   ]
  },
  {
   "cell_type": "code",
   "execution_count": 44,
   "metadata": {},
   "outputs": [],
   "source": [
    "raw_data = raw_data.drop([205, 453, 487, 736, 1000, 1107, 1109, 1203])"
   ]
  },
  {
   "cell_type": "markdown",
   "metadata": {},
   "source": [
    "## III. Analysis\n",
    "\n",
    "### Data Exploration\n",
    "In this section, you will be expected to analyze the data you are using for the problem. This data can either be in the form of a dataset (or datasets), input data (or input files), or even an environment. The type of data should be thoroughly described and, if possible, have basic statistics and information presented (such as discussion of input features or defining characteristics about the input or environment). Any abnormalities or interesting qualities about the data that may need to be addressed have been identified (such as features that need to be transformed or the possibility of outliers). Questions to ask yourself when writing this section:\n",
    "- _If a dataset is present for this problem, have you thoroughly discussed certain features about the dataset? Has a data sample been provided to the reader?_\n",
    "- _If a dataset is present for this problem, are statistics about the dataset calculated and reported? Have any relevant results from this calculation been discussed?_\n",
    "- _If a dataset is **not** present for this problem, has discussion been made about the input space or input data for your problem?_\n",
    "- _Are there any abnormalities or characteristics about the input space or dataset that need to be addressed? (categorical variables, missing values, outliers, etc.)_"
   ]
  },
  {
   "cell_type": "markdown",
   "metadata": {},
   "source": [
    "##### Target Variable (Volume)"
   ]
  },
  {
   "cell_type": "code",
   "execution_count": 45,
   "metadata": {},
   "outputs": [
    {
     "data": {
      "text/plain": [
       "count     1658.000000\n",
       "mean       624.319059\n",
       "std       1429.175923\n",
       "min          0.000000\n",
       "25%         61.000000\n",
       "50%        197.000000\n",
       "75%        506.750000\n",
       "max      20005.000000\n",
       "Name: volume, dtype: float64"
      ]
     },
     "execution_count": 45,
     "metadata": {},
     "output_type": "execute_result"
    }
   ],
   "source": [
    "raw_data.volume.describe()"
   ]
  },
  {
   "cell_type": "markdown",
   "metadata": {},
   "source": [
    "The daily number of people at an intersection in Los Angeles, according to these counts, ranges between 0 and 20,005. Half of the intersections have a daily volume below 200; however, the mean is significantly higher (at 624), suggesting that there are some intersections with significantly higher counts. Using the same  +3 standard deviation threshold as before, I can identify those intersections that appear to be outliers. This calculation resulted in a slightly different set of outliers, since this dataset excludes the erroneous counts."
   ]
  },
  {
   "cell_type": "code",
   "execution_count": 46,
   "metadata": {},
   "outputs": [],
   "source": [
    "outlier_volume = raw_data[np.abs(raw_data.volume-raw_data.volume.mean()) > (3*raw_data.volume.std())]"
   ]
  },
  {
   "cell_type": "markdown",
   "metadata": {},
   "source": [
    "##### Features"
   ]
  },
  {
   "cell_type": "code",
   "execution_count": null,
   "metadata": {},
   "outputs": [],
   "source": [
    "# raw_data.drop(['volume','LAT','LON'], axis=1).describe()"
   ]
  },
  {
   "cell_type": "markdown",
   "metadata": {},
   "source": [
    "### Exploratory Visualization\n",
    "In this section, you will need to provide some form of visualization that summarizes or extracts a relevant characteristic or feature about the data. The visualization should adequately support the data being used. Discuss why this visualization was chosen and how it is relevant. Questions to ask yourself when writing this section:\n",
    "- _Have you visualized a relevant characteristic or feature about the dataset or input data?_\n",
    "- _Is the visualization thoroughly analyzed and discussed?_\n",
    "- _If a plot is provided, are the axes, title, and datum clearly defined?_"
   ]
  },
  {
   "cell_type": "markdown",
   "metadata": {},
   "source": [
    "##### Target Variable (Volume)"
   ]
  },
  {
   "cell_type": "code",
   "execution_count": 48,
   "metadata": {},
   "outputs": [
    {
     "data": {
      "text/plain": [
       "array([[<matplotlib.axes._subplots.AxesSubplot object at 0x000001310BE95F28>]],\n",
       "      dtype=object)"
      ]
     },
     "execution_count": 48,
     "metadata": {},
     "output_type": "execute_result"
    },
    {
     "data": {
      "image/png": "[encoded data removed]",
      "text/plain": [
       "<Figure size 432x288 with 1 Axes>"
      ]
     },
     "metadata": {},
     "output_type": "display_data"
    }
   ],
   "source": [
    "vol_hist = raw_data.hist(column='volume', grid=False)\n",
    "vol_hist"
   ]
  },
  {
   "cell_type": "markdown",
   "metadata": {},
   "source": [
    "Even after removing the innacurate volume counts, volume is still heavily skewed to the right with "
   ]
  },
  {
   "cell_type": "code",
   "execution_count": null,
   "metadata": {},
   "outputs": [],
   "source": []
  },
  {
   "cell_type": "markdown",
   "metadata": {},
   "source": [
    "Where are the intersections with the highest volume located in the City of Los Angeles? We can look at those locations with volumes outside 3 standard deviations of the mean."
   ]
  },
  {
   "cell_type": "code",
   "execution_count": 50,
   "metadata": {},
   "outputs": [
    {
     "name": "stdout",
     "output_type": "stream",
     "text": [
      "There are 33 volume counts outside +/- 3 st.dev from the mean volume.\n"
     ]
    },
    {
     "data": {
      "text/html": [
       "<div style=\"width:100%;\"><div style=\"position:relative;width:100%;height:0;padding-bottom:60%;\"><iframe src=\"data:text/html;charset=utf-8;base64,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\" style=\"position:absolute;width:100%;height:100%;left:0;top:0;border:none !important;\" allowfullscreen webkitallowfullscreen mozallowfullscreen></iframe></div></div>"
      ],
      "text/plain": [
       "<folium.folium.Map at 0x1310bf2d320>"
      ]
     },
     "execution_count": 50,
     "metadata": {},
     "output_type": "execute_result"
    }
   ],
   "source": [
    "import folium\n",
    "\n",
    "# Create new LA Basemap specifying map center, zoom level, and using Stamen Terrain tiles\n",
    "highvol_map = folium.Map([34.109279, -118.266087], tiles='Stamen Toner', zoom_start=11)\n",
    "\n",
    "# Loop through the df, add each highvol point to the map\n",
    "for index, row in outlier_volume.iterrows():\n",
    "    folium.Marker([row['LAT'], row['LON']]).add_to(highvol_map)\n",
    "\n",
    "# Show the map\n",
    "print(\"There are \" + str(len(outlier_volume.index)) +\n",
    "      \" volume counts outside +/- 3 st.dev from the mean volume.\")\n",
    "highvol_map"
   ]
  },
  {
   "cell_type": "markdown",
   "metadata": {},
   "source": [
    "Most of these locations fall within two categories:  \n",
    "* Directly adjacent to a university: 4 counts are near UCLA, and 1 count is near USC\n",
    "* In a high-dense area: several counts are in Downtown, Hollywood, and Koreatown, some of the densest areas in the City of Los Angeles  \n",
    "\n",
    "This suggests that density, measured in dataset by `EMPTOT` and `SUM_POPTTL`, and proximity to a school, measured in the dataset by `SCH_CT`, may be important features in predicting pedestrian volumes. This also suggests that these high counts, despite being outliers in the dataset, should not be discarded since they can be explained by the built environment surrounding them."
   ]
  },
  {
   "cell_type": "markdown",
   "metadata": {},
   "source": [
    "##### Features"
   ]
  },
  {
   "cell_type": "code",
   "execution_count": 53,
   "metadata": {},
   "outputs": [
    {
     "data": {
      "image/png": "[encoded data removed]",
      "text/plain": [
       "<Figure size 1008x576 with 36 Axes>"
      ]
     },
     "metadata": {},
     "output_type": "display_data"
    }
   ],
   "source": [
    "# From customer segments section\n",
    "# Produce a scatter matrix for each pair of features in the data\n",
    "pd.plotting.scatter_matrix(raw_data.drop(['volume','LAT','LON'], axis=1),\n",
    "                           alpha = 0.3, figsize = (14,8), diagonal = 'kde');"
   ]
  },
  {
   "cell_type": "markdown",
   "metadata": {},
   "source": [
    "The above scatterplot matrix shows the relationship between each of the feature pairs in the dataset. "
   ]
  },
  {
   "cell_type": "markdown",
   "metadata": {},
   "source": [
    "### Algorithms and Techniques\n",
    "My proposed solution is to build a regression model that can take inputs from the built environment and predict the daily volume of pedestrians at an intersection. I will test the fit for both a linear model and log linear model, since both have been demonstrated to perform well for different cities. For my project, I prefer implementing a linear or log linear regression model because it is important to be able to describe the effect of each explanatory variable on the output. It is not just important to be able to accurately predict the pedestrian volume; it is also important to understand how the characteristics of the built environment affect the volume. I anticipate my resulting model to take one of two forms shown below:\n",
    "\n",
    "$Y_i=\\beta_0+\\beta_1X_{1i}+\\beta_2X_{2i}+...\\beta_jX_{ji}$  \n",
    "$Y_i=exp(\\beta_0+\\beta_1X_{1i}+\\beta_2X_{2i}+...\\beta_jX_{ji})$  \n",
    "\n",
    "where:\n",
    "\n",
    "$Yi$ = weekday pedestrian volume at intersection  \n",
    "$X_{ji}$ = value of explanatory variable $j$ at intersection $i$  \n",
    "$\\beta_j$ = model coefficient for variable j\n",
    "\n",
    "### Benchmark\n",
    "There have been a few attempts to build models estimating the effect of the built environment on pedestrian traffic volume, but none of them have focused on Los Angeles. In addition, most have also used a sample set smaller than my own. Below is a table with the results from a previous model for San Francisco (1):  \n",
    "\n",
    "Model Structure | Adjusted R^2 Value | F-Value (Test Value) \n",
    "--- | --- | ---\n",
    "Log-Linear| 0.804 | 34.4 (p < .001)\n",
    "\n"
   ]
  },
  {
   "cell_type": "markdown",
   "metadata": {},
   "source": [
    "## IV. Methodology\n",
    "\n",
    "### Data Preprocessing"
   ]
  },
  {
   "cell_type": "markdown",
   "metadata": {},
   "source": [
    "One of the things I noticed during the data exploration was that there were several `NA` values for the `RIDERSHIP` feature. A `NA` value for this variable meant that there were no transit stops within 100ft of the intersection. For the purposes of this study, I can interpret this as a `RIDERSHIP` value of 0, so I can fill all the `NA` values with 0s for the analysis."
   ]
  },
  {
   "cell_type": "code",
   "execution_count": null,
   "metadata": {},
   "outputs": [],
   "source": [
    "# here i need to fill the ridership NA values with 0. This is because a NA value is a result of there being no stop within 100ft,\n",
    "# so we can assume that ridership within 100ft of that stop is 0"
   ]
  },
  {
   "cell_type": "code",
   "execution_count": null,
   "metadata": {},
   "outputs": [],
   "source": [
    "volume_raw = data['volume']\n",
    "features_raw = data.drop('volume', axis=1)"
   ]
  },
  {
   "cell_type": "markdown",
   "metadata": {},
   "source": [
    "As also noted in the data exploration, the target variable is heavily skewed to the right, with 33 counts well outside 3 standard deviations of the mean. "
   ]
  },
  {
   "cell_type": "code",
   "execution_count": 1,
   "metadata": {},
   "outputs": [],
   "source": [
    "# here i also need to create a log version of volume to test the fit on the natural log of the intersection volume"
   ]
  },
  {
   "cell_type": "markdown",
   "metadata": {},
   "source": [
    "### Implementation\n",
    "In this section, the process for which metrics, algorithms, and techniques that you implemented for the given data will need to be clearly documented. It should be abundantly clear how the implementation was carried out, and discussion should be made regarding any complications that occurred during this process. Questions to ask yourself when writing this section:\n",
    "- _Is it made clear how the algorithms and techniques were implemented with the given datasets or input data?_\n",
    "- _Were there any complications with the original metrics or techniques that required changing prior to acquiring a solution?_\n",
    "- _Was there any part of the coding process (e.g., writing complicated functions) that should be documented?_"
   ]
  },
  {
   "cell_type": "code",
   "execution_count": 15,
   "metadata": {},
   "outputs": [
    {
     "data": {
      "text/html": [
       "<div>\n",
       "<style scoped>\n",
       "    .dataframe tbody tr th:only-of-type {\n",
       "        vertical-align: middle;\n",
       "    }\n",
       "\n",
       "    .dataframe tbody tr th {\n",
       "        vertical-align: top;\n",
       "    }\n",
       "\n",
       "    .dataframe thead th {\n",
       "        text-align: right;\n",
       "    }\n",
       "</style>\n",
       "<table border=\"1\" class=\"dataframe\">\n",
       "  <thead>\n",
       "    <tr style=\"text-align: right;\">\n",
       "      <th></th>\n",
       "      <th>SIG</th>\n",
       "      <th>TRANSITSTOP</th>\n",
       "      <th>RIDERSHIP</th>\n",
       "      <th>SCH_CT</th>\n",
       "      <th>EMPTOT</th>\n",
       "      <th>SUM_POPTTL</th>\n",
       "    </tr>\n",
       "  </thead>\n",
       "  <tbody>\n",
       "    <tr>\n",
       "      <th>count</th>\n",
       "      <td>1666.000000</td>\n",
       "      <td>1666.000000</td>\n",
       "      <td>771.000000</td>\n",
       "      <td>1666.000000</td>\n",
       "      <td>1666.000000</td>\n",
       "      <td>1666.000000</td>\n",
       "    </tr>\n",
       "    <tr>\n",
       "      <th>mean</th>\n",
       "      <td>0.550420</td>\n",
       "      <td>0.987995</td>\n",
       "      <td>1021.756541</td>\n",
       "      <td>0.755102</td>\n",
       "      <td>2245.584710</td>\n",
       "      <td>2653.204961</td>\n",
       "    </tr>\n",
       "    <tr>\n",
       "      <th>std</th>\n",
       "      <td>0.497601</td>\n",
       "      <td>1.356059</td>\n",
       "      <td>5736.060901</td>\n",
       "      <td>0.956747</td>\n",
       "      <td>5254.050911</td>\n",
       "      <td>1875.192695</td>\n",
       "    </tr>\n",
       "    <tr>\n",
       "      <th>min</th>\n",
       "      <td>0.000000</td>\n",
       "      <td>0.000000</td>\n",
       "      <td>0.000000</td>\n",
       "      <td>0.000000</td>\n",
       "      <td>14.084445</td>\n",
       "      <td>0.000000</td>\n",
       "    </tr>\n",
       "    <tr>\n",
       "      <th>25%</th>\n",
       "      <td>0.000000</td>\n",
       "      <td>0.000000</td>\n",
       "      <td>49.000000</td>\n",
       "      <td>0.000000</td>\n",
       "      <td>320.761690</td>\n",
       "      <td>1276.519207</td>\n",
       "    </tr>\n",
       "    <tr>\n",
       "      <th>50%</th>\n",
       "      <td>1.000000</td>\n",
       "      <td>0.000000</td>\n",
       "      <td>155.000000</td>\n",
       "      <td>0.000000</td>\n",
       "      <td>735.917524</td>\n",
       "      <td>2234.350076</td>\n",
       "    </tr>\n",
       "    <tr>\n",
       "      <th>75%</th>\n",
       "      <td>1.000000</td>\n",
       "      <td>2.000000</td>\n",
       "      <td>574.153846</td>\n",
       "      <td>1.000000</td>\n",
       "      <td>1862.655654</td>\n",
       "      <td>3528.763198</td>\n",
       "    </tr>\n",
       "    <tr>\n",
       "      <th>max</th>\n",
       "      <td>1.000000</td>\n",
       "      <td>7.000000</td>\n",
       "      <td>104376.101400</td>\n",
       "      <td>7.000000</td>\n",
       "      <td>60793.278700</td>\n",
       "      <td>12858.609440</td>\n",
       "    </tr>\n",
       "  </tbody>\n",
       "</table>\n",
       "</div>"
      ],
      "text/plain": [
       "               SIG  TRANSITSTOP      RIDERSHIP       SCH_CT        EMPTOT  \\\n",
       "count  1666.000000  1666.000000     771.000000  1666.000000   1666.000000   \n",
       "mean      0.550420     0.987995    1021.756541     0.755102   2245.584710   \n",
       "std       0.497601     1.356059    5736.060901     0.956747   5254.050911   \n",
       "min       0.000000     0.000000       0.000000     0.000000     14.084445   \n",
       "25%       0.000000     0.000000      49.000000     0.000000    320.761690   \n",
       "50%       1.000000     0.000000     155.000000     0.000000    735.917524   \n",
       "75%       1.000000     2.000000     574.153846     1.000000   1862.655654   \n",
       "max       1.000000     7.000000  104376.101400     7.000000  60793.278700   \n",
       "\n",
       "         SUM_POPTTL  \n",
       "count   1666.000000  \n",
       "mean    2653.204961  \n",
       "std     1875.192695  \n",
       "min        0.000000  \n",
       "25%     1276.519207  \n",
       "50%     2234.350076  \n",
       "75%     3528.763198  \n",
       "max    12858.609440  "
      ]
     },
     "execution_count": 15,
     "metadata": {},
     "output_type": "execute_result"
    }
   ],
   "source": [
    "from sklearn import linear_model\n",
    "\n",
    "# Create linear regression object\n",
    "regr = linear_model.LinearRegression()\n",
    "\n",
    "# Train the model using the training sets\n",
    "regr.fit(diabetes_X_train, diabetes_y_train)"
   ]
  },
  {
   "cell_type": "markdown",
   "metadata": {},
   "source": [
    "### Refinement\n",
    "In this section, you will need to discuss the process of improvement you made upon the algorithms and techniques you used in your implementation. For example, adjusting parameters for certain models to acquire improved solutions would fall under the refinement category. Your initial and final solutions should be reported, as well as any significant intermediate results as necessary. Questions to ask yourself when writing this section:\n",
    "- _Has an initial solution been found and clearly reported?_\n",
    "- _Is the process of improvement clearly documented, such as what techniques were used?_\n",
    "- _Are intermediate and final solutions clearly reported as the process is improved?_"
   ]
  },
  {
   "cell_type": "markdown",
   "metadata": {},
   "source": [
    "## IV. Results\n",
    "_(approx. 2-3 pages)_\n",
    "\n",
    "### Model Evaluation and Validation\n",
    "In this section, the final model and any supporting qualities should be evaluated in detail. It should be clear how the final model was derived and why this model was chosen. In addition, some type of analysis should be used to validate the robustness of this model and its solution, such as manipulating the input data or environment to see how the model’s solution is affected (this is called sensitivity analysis). Questions to ask yourself when writing this section:\n",
    "- _Is the final model reasonable and aligning with solution expectations? Are the final parameters of the model appropriate?_\n",
    "- _Has the final model been tested with various inputs to evaluate whether the model generalizes well to unseen data?_\n",
    "- _Is the model robust enough for the problem? Do small perturbations (changes) in training data or the input space greatly affect the results?_\n",
    "- _Can results found from the model be trusted?_"
   ]
  },
  {
   "cell_type": "code",
   "execution_count": null,
   "metadata": {},
   "outputs": [],
   "source": [
    "# The coefficients\n",
    "print('Coefficients: \\n', regr.coef_)\n",
    "# The mean squared error\n",
    "print(\"Mean squared error: %.2f\"\n",
    "      % mean_squared_error(diabetes_y_test, diabetes_y_pred))\n",
    "# Explained variance score: 1 is perfect prediction\n",
    "print('Variance score: %.2f' % r2_score(diabetes_y_test, diabetes_y_pred))"
   ]
  },
  {
   "cell_type": "markdown",
   "metadata": {},
   "source": [
    "### Justification\n",
    "In this section, your model’s final solution and its results should be compared to the benchmark you established earlier in the project using some type of statistical analysis. You should also justify whether these results and the solution are significant enough to have solved the problem posed in the project. Questions to ask yourself when writing this section:\n",
    "- _Are the final results found stronger than the benchmark result reported earlier?_\n",
    "- _Have you thoroughly analyzed and discussed the final solution?_\n",
    "- _Is the final solution significant enough to have solved the problem?_"
   ]
  },
  {
   "cell_type": "markdown",
   "metadata": {},
   "source": [
    "## V. Conclusion\n",
    "_(approx. 1-2 pages)_\n",
    "\n",
    "### Free-Form Visualization\n",
    "In this section, you will need to provide some form of visualization that emphasizes an important quality about the project. It is much more free-form, but should reasonably support a significant result or characteristic about the problem that you want to discuss. Questions to ask yourself when writing this section:\n",
    "- _Have you visualized a relevant or important quality about the problem, dataset, input data, or results?_\n",
    "- _Is the visualization thoroughly analyzed and discussed?_\n",
    "- _If a plot is provided, are the axes, title, and datum clearly defined?_\n",
    "\n",
    "### Reflection\n",
    "In this section, you will summarize the entire end-to-end problem solution and discuss one or two particular aspects of the project you found interesting or difficult. You are expected to reflect on the project as a whole to show that you have a firm understanding of the entire process employed in your work. Questions to ask yourself when writing this section:\n",
    "- _Have you thoroughly summarized the entire process you used for this project?_\n",
    "- _Were there any interesting aspects of the project?_\n",
    "- _Were there any difficult aspects of the project?_\n",
    "- _Does the final model and solution fit your expectations for the problem, and should it be used in a general setting to solve these types of problems?_\n",
    "\n",
    "The most challenging aspect of the project was the preprocessing of the data. I spent a considerable amount of time familiarizing myself with the OpenCV library so that I could employ it on this task. Before implementing the OpenCV / OCR solution to process the data, I originally tried to read the data using PDF text extraction tools; however, the performance using those tools was quite poor, and I didn't feel that it would be relaible enough for this project. \n",
    "\n",
    "### Improvement\n",
    "In this section, you will need to provide discussion as to how one aspect of the implementation you designed could be improved. As an example, consider ways your implementation can be made more general, and what would need to be modified. You do not need to make this improvement, but the potential solutions resulting from these changes are considered and compared/contrasted to your current solution. Questions to ask yourself when writing this section:\n",
    "- _Are there further improvements that could be made on the algorithms or techniques you used in this project?_\n",
    "- _Were there algorithms or techniques you researched that you did not know how to implement, but would consider using if you knew how?_\n",
    "- _If you used your final solution as the new benchmark, do you think an even better solution exists?_\n",
    "\n",
    "In this case, I think I could build a more robust model with more data. The OpenCV / OCR solution was limited to the ~1.6K sheets I could process using this method; however, there were roughly 5k sheets (in a similar but different PDF format) that I was unable to process. If I was able to get all those sheets transcribed, this would increase the amount of training data by 4x.  Beyond what I will be able to get from these historical counts, the field of machine learning has advanced to the point where we can now install cameras and get much larger datasets on ped volume counts. The City of Los Angeles has not yet implemented this strategy for collecting pedestrian counts; however, it is only a matter of time before that becomes standard in many cities. When this does happen, we will have much more \n",
    "\n",
    "In addition to having more volume data, I am sure that I could also build a better model using more data from the built environment. I was able to assemble the data that the literature has shown to be the most important in terms of predicting pedestrian volume; however, I was not able to get the range of data that other researchers have examined. It is also possible that there is some aspect of the built environment that is important but has not yet been revealed in the research. "
   ]
  },
  {
   "cell_type": "markdown",
   "metadata": {},
   "source": [
    "## VI. References\n",
    "1. Schneider, R. J., T. Henry, M. F. Mitman, L. Stonehill, and J. Koehler. Development and Application of a Pedestrian Volume Model in San Francisco. Transportation Research Record: Journal of the Transportation Research Board, No. 2299, 2012, pp. 65–78.\n",
    "2. Liu, X., and J. Griswold. Pedestrian Volume Modeling: A Case Study of San Francisco. Association of Pacific Coast Geographers Yearbook, Vol. 71, 2009.\n",
    "3. Pulugurtha, S. S., and S. R. Repaka. Assessment of Models to Measure Pedestrian Activity at Signalized Intersections. In Transportation Research Record: Journal of the Transportation Research Board, No. 2073, Transportation Research Board of the National Academies, Washington, D.C., 2008, pp. 39-48.\n",
    "4. Schneider, R. J., L. S. Arnold, and D. R. Ragland. Pilot Model for Estimating Pedestrian Intersection Crossing Volumes. In Transportation Research Record: Journal of the Transportation Research Board, No. 2140, Transportation Research Board of the National Academies, Washington, D.C., 2009, pp. 13-26.\n",
    "5. Jones, M. G., S. Ryan, J. Donlan, L. Ledbetter, L. Arnold, and D. Ragland. Seamless Travel: Measuring Bicycle and Pedestrian Activity in San Diego County and Its Relationship to Land Use, Transportation, Safety, and Facility Type. Alta Planning and Design and Safe Transportation Research and Education Center, University of California, Berkeley, 2010.\n",
    "6. Haynes, M., and S. Andrzejewski. GIS Based Bicycle & Pedestrian Demand Forecasting Techniques. Presentation to Travel Model Improvement Program, U.S. Department of Transportation. Fehr & Peers Transportation Consultants, San Francisco, Calif., 2010.\n",
    "7. Miranda-Moreno, L. F., and D. Fernandes. Modeling of Pedestrian Activity at Signalized Intersections: Land Use, Urban Form, Weather, and Spatiotemporal Patterns. In Transportation Research Record: Journal of the Transportation Research Board, No. 2264, Transportation Research Board of the National Academies, Washington, D.C., 2011, pp. 74-82."
   ]
  },
  {
   "cell_type": "code",
   "execution_count": null,
   "metadata": {
    "collapsed": true
   },
   "outputs": [],
   "source": []
  }
 ],
 "metadata": {
  "kernelspec": {
   "display_name": "Python [default]",
   "language": "python",
   "name": "python3"
  },
  "language_info": {
   "codemirror_mode": {
    "name": "ipython",
    "version": 3
   },
   "file_extension": ".py",
   "mimetype": "text/x-python",
   "name": "python",
   "nbconvert_exporter": "python",
   "pygments_lexer": "ipython3",
   "version": "3.6.5"
  }
 },
 "nbformat": 4,
 "nbformat_minor": 2
}
