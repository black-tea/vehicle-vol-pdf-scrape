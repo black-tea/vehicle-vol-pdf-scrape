{
 "cells": [
  {
   "cell_type": "markdown",
   "metadata": {},
   "source": [
    "# Machine Learning Engineer Nanodegree\n",
    "## Capstone Project\n",
    "Tim Black \n",
    "September 5, 2018"
   ]
  },
  {
   "cell_type": "markdown",
   "metadata": {},
   "source": [
    "## I. Definition\n",
    "\n",
    "### Project Overview\n",
    "In order for cities to plan transportation systems, they need to have robust data on the number of people using different modes of transport. This is especially important when the urban landscape changes, such as an increase in urban density, and cities need to plan for the changes in traffic that will arrive. Typically, cities collect data on the volume of vehicle, bicycle, and pedestrian traffic. Unfortunately, collecting these data is costly and time consuming, and in some cases impossible. Often transportation engineers and planners need to understand the consequences of different design decisions, such as the estimated effect of a traffic signal on safety. Since it is impossible to build out these alternatives and then perform volume counts, engineers and planners need a way to be able to estimate the effect of changes on pedestrian volume.\n",
    "\n",
    "Although many cities have models to estimate the effect of the built environment on pedestrian volume, they are typically at the scale of traffic analysis zones, a geographic scale much larger compared to the intersection. Intersection-based models exist for the following locations: San Francisco, CA (1,2); Charlotte, NC (3); Alameda County, CA (4); San Diego County, CA (5); Santa Monica, CA (6); and Quebec (7). Most of these intersection-based models use either a linear or log-linear model, and the most common features found to significantly affect pedestrian volumes include population density, employment density, and transit accessibility.\n",
    "\n",
    "Despite general agreement on the most important features, there are differences among the models on other significant features from the built environment. For example, the City of Santa Monica found the distance from the ocean to be a significant variable in prediction (6); it is highly unlikely that a landlocked city would find the significance in that variable. Even when the models agree on which features of the built environment are significant predictors, they often disagree on the extent to which they influence pedestrian volume. As suggested by Schneider et al., this variation should be addressed by creating models that are sensitive to the context of the local environment (2). Since there currently does not exist a model to predict pedestrian intersection volumes for the City of Los Angeles, my machine learning project aims to fill that gap.\n",
    "\n",
    "\n",
    "### Problem Statement\n",
    "For this project, my goal is to answer the following statement: What is the relationship between the built environment and the daily pedestrian volumes at intersections in the City of Los Angeles?\n",
    "\n",
    "\n",
    "### Metrics\n",
    "My proposed metric for evaluating my linear model is the r-squared score, the proportion of the variance in the dependent variable that is predictable from the independent variable. I will also compute the F-Value to ensure that the regression model provides a better fit to the data than a model that contains no independent variables."
   ]
  },
  {
   "cell_type": "code",
   "execution_count": 1,
   "metadata": {},
   "outputs": [],
   "source": [
    "from sklearn.metrics import r2_score\n",
    "\n",
    "def performance_metric(y_true, y_predict):\n",
    "    \"\"\" Calculates and returns the performance score between \n",
    "        true and predicted values based on the metric chosen. \"\"\"\n",
    "    \n",
    "    # TODO: Calculate the performance score between 'y_true' and 'y_predict'\n",
    "    score = r2_score(y_true, y_predict)\n",
    "    \n",
    "    # Return the score\n",
    "    return score"
   ]
  },
  {
   "cell_type": "markdown",
   "metadata": {},
   "source": [
    "## II. Data Assembly"
   ]
  },
  {
   "cell_type": "markdown",
   "metadata": {},
   "source": [
    "## II. Analysis\n",
    "_(approx. 2-4 pages)_\n",
    "\n",
    "* maybe add the map section??\n",
    "\n",
    "### Data Exploration\n",
    "In this section, you will be expected to analyze the data you are using for the problem. This data can either be in the form of a dataset (or datasets), input data (or input files), or even an environment. The type of data should be thoroughly described and, if possible, have basic statistics and information presented (such as discussion of input features or defining characteristics about the input or environment). Any abnormalities or interesting qualities about the data that may need to be addressed have been identified (such as features that need to be transformed or the possibility of outliers). Questions to ask yourself when writing this section:\n",
    "- _If a dataset is present for this problem, have you thoroughly discussed certain features about the dataset? Has a data sample been provided to the reader?_\n",
    "- _If a dataset is present for this problem, are statistics about the dataset calculated and reported? Have any relevant results from this calculation been discussed?_\n",
    "- _If a dataset is **not** present for this problem, has discussion been made about the input space or input data for your problem?_\n",
    "- _Are there any abnormalities or characteristics about the input space or dataset that need to be addressed? (categorical variables, missing values, outliers, etc.)_"
   ]
  },
  {
   "cell_type": "code",
   "execution_count": 19,
   "metadata": {},
   "outputs": [],
   "source": [
    "# Import libraries\n",
    "%matplotlib inline\n",
    "import pandas as pd\n",
    "import matplotlib.pyplot as plt\n",
    "\n",
    "# Load data & preview\n",
    "data = pd.read_csv('data/FeatureData/featurescombined.csv')"
   ]
  },
  {
   "cell_type": "markdown",
   "metadata": {},
   "source": [
    "##### Explore the Target Variable (Volume)"
   ]
  },
  {
   "cell_type": "code",
   "execution_count": 22,
   "metadata": {},
   "outputs": [
    {
     "data": {
      "text/plain": [
       "count     1666.000000\n",
       "mean       742.381152\n",
       "std       2273.184856\n",
       "min          0.000000\n",
       "25%         61.000000\n",
       "50%        199.500000\n",
       "75%        525.000000\n",
       "max      36981.000000\n",
       "Name: volume, dtype: float64"
      ]
     },
     "execution_count": 22,
     "metadata": {},
     "output_type": "execute_result"
    }
   ],
   "source": [
    "data.volume.describe()"
   ]
  },
  {
   "cell_type": "code",
   "execution_count": 23,
   "metadata": {},
   "outputs": [
    {
     "data": {
      "text/plain": [
       "array([[<matplotlib.axes._subplots.AxesSubplot object at 0x000001E2277D8978>]],\n",
       "      dtype=object)"
      ]
     },
     "execution_count": 23,
     "metadata": {},
     "output_type": "execute_result"
    },
    {
     "data": {
      "image/png": "[encoded data removed]",
      "text/plain": [
       "<Figure size 432x288 with 1 Axes>"
      ]
     },
     "metadata": {},
     "output_type": "display_data"
    }
   ],
   "source": [
    "vol_hist = data.hist(column='volume', grid=False)\n",
    "vol_hist"
   ]
  },
  {
   "cell_type": "markdown",
   "metadata": {},
   "source": [
    "##### Explore the Features"
   ]
  },
  {
   "cell_type": "code",
   "execution_count": 29,
   "metadata": {},
   "outputs": [
    {
     "data": {
      "text/html": [
       "<div>\n",
       "<style scoped>\n",
       "    .dataframe tbody tr th:only-of-type {\n",
       "        vertical-align: middle;\n",
       "    }\n",
       "\n",
       "    .dataframe tbody tr th {\n",
       "        vertical-align: top;\n",
       "    }\n",
       "\n",
       "    .dataframe thead th {\n",
       "        text-align: right;\n",
       "    }\n",
       "</style>\n",
       "<table border=\"1\" class=\"dataframe\">\n",
       "  <thead>\n",
       "    <tr style=\"text-align: right;\">\n",
       "      <th></th>\n",
       "      <th>Unnamed: 0</th>\n",
       "      <th>count_id</th>\n",
       "      <th>cl_node_id</th>\n",
       "      <th>traffic_id</th>\n",
       "      <th>OBJECTID</th>\n",
       "      <th>ASSETID</th>\n",
       "      <th>CL_NODE_ID</th>\n",
       "      <th>LAT</th>\n",
       "      <th>LON</th>\n",
       "      <th>SIG</th>\n",
       "      <th>TRANSITSTOP</th>\n",
       "      <th>RIDERSHIP</th>\n",
       "      <th>SCH_CT</th>\n",
       "      <th>EMPTOT</th>\n",
       "      <th>SUM_POPTTL</th>\n",
       "    </tr>\n",
       "  </thead>\n",
       "  <tbody>\n",
       "    <tr>\n",
       "      <th>count</th>\n",
       "      <td>1666.00000</td>\n",
       "      <td>1666.000000</td>\n",
       "      <td>1666.000000</td>\n",
       "      <td>1666.000000</td>\n",
       "      <td>1666.000000</td>\n",
       "      <td>1666.000000</td>\n",
       "      <td>1666.000000</td>\n",
       "      <td>1666.000000</td>\n",
       "      <td>1666.000000</td>\n",
       "      <td>1666.000000</td>\n",
       "      <td>1666.000000</td>\n",
       "      <td>771.000000</td>\n",
       "      <td>1666.000000</td>\n",
       "      <td>1666.000000</td>\n",
       "      <td>1666.000000</td>\n",
       "    </tr>\n",
       "    <tr>\n",
       "      <th>mean</th>\n",
       "      <td>832.50000</td>\n",
       "      <td>9915.141657</td>\n",
       "      <td>21796.553421</td>\n",
       "      <td>2489.375150</td>\n",
       "      <td>20857.277311</td>\n",
       "      <td>123540.093037</td>\n",
       "      <td>21796.553421</td>\n",
       "      <td>34.083621</td>\n",
       "      <td>-118.365342</td>\n",
       "      <td>0.550420</td>\n",
       "      <td>0.987995</td>\n",
       "      <td>1021.756541</td>\n",
       "      <td>0.755102</td>\n",
       "      <td>2245.584710</td>\n",
       "      <td>2653.204961</td>\n",
       "    </tr>\n",
       "    <tr>\n",
       "      <th>std</th>\n",
       "      <td>481.07709</td>\n",
       "      <td>5854.423698</td>\n",
       "      <td>14732.193815</td>\n",
       "      <td>1557.505573</td>\n",
       "      <td>12062.807580</td>\n",
       "      <td>16335.939559</td>\n",
       "      <td>14732.193815</td>\n",
       "      <td>0.107219</td>\n",
       "      <td>0.109918</td>\n",
       "      <td>0.497601</td>\n",
       "      <td>1.356059</td>\n",
       "      <td>5736.060901</td>\n",
       "      <td>0.956747</td>\n",
       "      <td>5254.050911</td>\n",
       "      <td>1875.192695</td>\n",
       "    </tr>\n",
       "    <tr>\n",
       "      <th>min</th>\n",
       "      <td>0.00000</td>\n",
       "      <td>5.000000</td>\n",
       "      <td>2.000000</td>\n",
       "      <td>4.000000</td>\n",
       "      <td>37.000000</td>\n",
       "      <td>96020.000000</td>\n",
       "      <td>2.000000</td>\n",
       "      <td>33.709628</td>\n",
       "      <td>-118.656820</td>\n",
       "      <td>0.000000</td>\n",
       "      <td>0.000000</td>\n",
       "      <td>0.000000</td>\n",
       "      <td>0.000000</td>\n",
       "      <td>14.084445</td>\n",
       "      <td>0.000000</td>\n",
       "    </tr>\n",
       "    <tr>\n",
       "      <th>25%</th>\n",
       "      <td>416.25000</td>\n",
       "      <td>4847.750000</td>\n",
       "      <td>8921.000000</td>\n",
       "      <td>1167.000000</td>\n",
       "      <td>10272.250000</td>\n",
       "      <td>109219.000000</td>\n",
       "      <td>8921.000000</td>\n",
       "      <td>34.035762</td>\n",
       "      <td>-118.445369</td>\n",
       "      <td>0.000000</td>\n",
       "      <td>0.000000</td>\n",
       "      <td>49.000000</td>\n",
       "      <td>0.000000</td>\n",
       "      <td>320.761690</td>\n",
       "      <td>1276.519207</td>\n",
       "    </tr>\n",
       "    <tr>\n",
       "      <th>50%</th>\n",
       "      <td>832.50000</td>\n",
       "      <td>9631.000000</td>\n",
       "      <td>19013.000000</td>\n",
       "      <td>2276.500000</td>\n",
       "      <td>21451.000000</td>\n",
       "      <td>123708.500000</td>\n",
       "      <td>19013.000000</td>\n",
       "      <td>34.069042</td>\n",
       "      <td>-118.338473</td>\n",
       "      <td>1.000000</td>\n",
       "      <td>0.000000</td>\n",
       "      <td>155.000000</td>\n",
       "      <td>0.000000</td>\n",
       "      <td>735.917524</td>\n",
       "      <td>2234.350076</td>\n",
       "    </tr>\n",
       "    <tr>\n",
       "      <th>75%</th>\n",
       "      <td>1248.75000</td>\n",
       "      <td>15007.250000</td>\n",
       "      <td>30624.500000</td>\n",
       "      <td>3696.000000</td>\n",
       "      <td>31043.750000</td>\n",
       "      <td>137483.000000</td>\n",
       "      <td>30624.500000</td>\n",
       "      <td>34.159256</td>\n",
       "      <td>-118.279161</td>\n",
       "      <td>1.000000</td>\n",
       "      <td>2.000000</td>\n",
       "      <td>574.153846</td>\n",
       "      <td>1.000000</td>\n",
       "      <td>1862.655654</td>\n",
       "      <td>3528.763198</td>\n",
       "    </tr>\n",
       "    <tr>\n",
       "      <th>max</th>\n",
       "      <td>1665.00000</td>\n",
       "      <td>19623.000000</td>\n",
       "      <td>64283.000000</td>\n",
       "      <td>5450.000000</td>\n",
       "      <td>41110.000000</td>\n",
       "      <td>164868.000000</td>\n",
       "      <td>64283.000000</td>\n",
       "      <td>34.334342</td>\n",
       "      <td>-118.162349</td>\n",
       "      <td>1.000000</td>\n",
       "      <td>7.000000</td>\n",
       "      <td>104376.101400</td>\n",
       "      <td>7.000000</td>\n",
       "      <td>60793.278700</td>\n",
       "      <td>12858.609440</td>\n",
       "    </tr>\n",
       "  </tbody>\n",
       "</table>\n",
       "</div>"
      ],
      "text/plain": [
       "       Unnamed: 0      count_id    cl_node_id   traffic_id      OBJECTID  \\\n",
       "count  1666.00000   1666.000000   1666.000000  1666.000000   1666.000000   \n",
       "mean    832.50000   9915.141657  21796.553421  2489.375150  20857.277311   \n",
       "std     481.07709   5854.423698  14732.193815  1557.505573  12062.807580   \n",
       "min       0.00000      5.000000      2.000000     4.000000     37.000000   \n",
       "25%     416.25000   4847.750000   8921.000000  1167.000000  10272.250000   \n",
       "50%     832.50000   9631.000000  19013.000000  2276.500000  21451.000000   \n",
       "75%    1248.75000  15007.250000  30624.500000  3696.000000  31043.750000   \n",
       "max    1665.00000  19623.000000  64283.000000  5450.000000  41110.000000   \n",
       "\n",
       "             ASSETID    CL_NODE_ID          LAT          LON          SIG  \\\n",
       "count    1666.000000   1666.000000  1666.000000  1666.000000  1666.000000   \n",
       "mean   123540.093037  21796.553421    34.083621  -118.365342     0.550420   \n",
       "std     16335.939559  14732.193815     0.107219     0.109918     0.497601   \n",
       "min     96020.000000      2.000000    33.709628  -118.656820     0.000000   \n",
       "25%    109219.000000   8921.000000    34.035762  -118.445369     0.000000   \n",
       "50%    123708.500000  19013.000000    34.069042  -118.338473     1.000000   \n",
       "75%    137483.000000  30624.500000    34.159256  -118.279161     1.000000   \n",
       "max    164868.000000  64283.000000    34.334342  -118.162349     1.000000   \n",
       "\n",
       "       TRANSITSTOP      RIDERSHIP       SCH_CT        EMPTOT    SUM_POPTTL  \n",
       "count  1666.000000     771.000000  1666.000000   1666.000000   1666.000000  \n",
       "mean      0.987995    1021.756541     0.755102   2245.584710   2653.204961  \n",
       "std       1.356059    5736.060901     0.956747   5254.050911   1875.192695  \n",
       "min       0.000000       0.000000     0.000000     14.084445      0.000000  \n",
       "25%       0.000000      49.000000     0.000000    320.761690   1276.519207  \n",
       "50%       0.000000     155.000000     0.000000    735.917524   2234.350076  \n",
       "75%       2.000000     574.153846     1.000000   1862.655654   3528.763198  \n",
       "max       7.000000  104376.101400     7.000000  60793.278700  12858.609440  "
      ]
     },
     "execution_count": 29,
     "metadata": {},
     "output_type": "execute_result"
    }
   ],
   "source": [
    "data.drop(['volume'], axis=1).describe()"
   ]
  },
  {
   "cell_type": "markdown",
   "metadata": {},
   "source": [
    "### Exploratory Visualization\n",
    "In this section, you will need to provide some form of visualization that summarizes or extracts a relevant characteristic or feature about the data. The visualization should adequately support the data being used. Discuss why this visualization was chosen and how it is relevant. Questions to ask yourself when writing this section:\n",
    "- _Have you visualized a relevant characteristic or feature about the dataset or input data?_\n",
    "- _Is the visualization thoroughly analyzed and discussed?_\n",
    "- _If a plot is provided, are the axes, title, and datum clearly defined?_"
   ]
  },
  {
   "cell_type": "markdown",
   "metadata": {},
   "source": [
    "Where are the intersections with the highest volume located in the City of Los Angeles? We can look at all locations with volumes greater than 5,000. "
   ]
  },
  {
   "cell_type": "code",
   "execution_count": 27,
   "metadata": {},
   "outputs": [
    {
     "data": {
      "text/html": [
       "<div style=\"width:100%;\"><div style=\"position:relative;width:100%;height:0;padding-bottom:60%;\"><iframe src=\"data:text/html;charset=utf-8;base64,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\" style=\"position:absolute;width:100%;height:100%;left:0;top:0;border:none !important;\" allowfullscreen webkitallowfullscreen mozallowfullscreen></iframe></div></div>"
      ],
      "text/plain": [
       "<folium.folium.Map at 0x1e228464588>"
      ]
     },
     "execution_count": 27,
     "metadata": {},
     "output_type": "execute_result"
    }
   ],
   "source": [
    "import folium\n",
    "\n",
    "# Create new LA Basemap specifying map center, zoom level, and using Stamen Terrain tiles\n",
    "highvol_map = folium.Map([34.109279, -118.266087], tiles='Stamen Toner', zoom_start=11)\n",
    "\n",
    "# Subset out those locations with high pedestrian volumes\n",
    "highvol = data[data.volume > 5000]\n",
    "\n",
    "# Loop through the pandas df, add each bicycling point to the map\n",
    "for index, row in highvol.iterrows():\n",
    "    folium.Marker([row['LAT'], row['LON']]).add_to(highvol_map)\n",
    "\n",
    "# Show the map\n",
    "highvol_map"
   ]
  },
  {
   "cell_type": "markdown",
   "metadata": {},
   "source": [
    "### Algorithms and Techniques\n",
    "My proposed solution is to build a regression model that can take inputs from the built environment and predict the daily volume of pedestrians at an intersection. I will test the fit for both a linear model and log linear model, since both have been demonstrated to perform well for different cities. For my project, I prefer implementing a linear or log linear regression model because it is important to be able to describe the effect of each explanatory variable on the output. It is not just important to be able to accurately predict the pedestrian volume; it is also important to understand how the characteristics of the built environment affect the volume. I anticipate my resulting model to take one of two forms shown below:\n",
    "\n",
    "$Y_i=\\beta_0+\\beta_1X_{1i}+\\beta_2X_{2i}+...\\beta_jX_{ji}$  \n",
    "$Y_i=exp(\\beta_0+\\beta_1X_{1i}+\\beta_2X_{2i}+...\\beta_jX_{ji})$  \n",
    "\n",
    "where:\n",
    "\n",
    "$Yi$ = weekday pedestrian volume at intersection  \n",
    "$X_{ji}$ = value of explanatory variable $j$ at intersection $i$  \n",
    "$\\beta_j$ = model coefficient for variable j\n",
    "\n",
    "### Benchmark\n",
    "There have been a few attempts to build models estimating the effect of the built environment on pedestrian traffic volume, but none of them have focused on Los Angeles. In addition, most have also used a sample set smaller than my own. Below is a table with the results from a previous model for San Francisco (1):  \n",
    "\n",
    "Model Structure | Adjusted R^2 Value | F-Value (Test Value) \n",
    "--- | --- | ---\n",
    "Log-Linear| 0.804 | 34.4 (p < .001)\n",
    "\n"
   ]
  },
  {
   "cell_type": "markdown",
   "metadata": {},
   "source": [
    "## III. Methodology\n",
    "\n",
    "### Data Preprocessing\n",
    "\n",
    "#### Data Assembly\n",
    "The Los Angeles Department of Transportation (LADOT) routinely collects volume data related to bicyclists, pedestrians, and motor vehicles for the purposes of transportation planning. Historically, these data have been stored in a PDF format, which makes it easy to digest a single traffic count, but prevents comparison and analysis of multiple counts. These PDF files are publicly available on the Navigate LA portal at http://navigatela.lacity.org/navigatela/. The first step to solving the proposed problem required extracting pedestrian volume from these sheets and storing it in a format that could be used in a model. \n",
    "\n",
    "I developed the following python pipeline below to read the pedestrian volume data from the PDF sheets and format them so they can be used in building the model. The daily volume (what I will be constructing a model to predict), is represented by the ‘volume’ attribute in the table.  Each row is a separate count event (‘count_id’), which occurs at an individual intersection (‘ASSETID’, ‘cl_node_id’)."
   ]
  },
  {
   "cell_type": "code",
   "execution_count": 10,
   "metadata": {
    "collapsed": true
   },
   "outputs": [],
   "source": [
    "import cv2\n",
    "import numpy as np\n",
    "from operator import itemgetter, attrgetter\n",
    "try:\n",
    "    import Image\n",
    "except ImportError:\n",
    "    from PIL import Image\n",
    "import pytesseract\n",
    "\n",
    "# Set path to tesseract executable\n",
    "pytesseract.pytesseract.tesseract_cmd = r'C:\\Program Files (x86)\\Tesseract-OCR\\tesseract'\n",
    "# Define config parameters.\n",
    "# '-l eng'  for using the English language\n",
    "# '--oem 1' for using LSTM OCR Engine\n",
    "config = ('-l eng --oem 0 --psm 10000 -c tessedit_char_whitelist=0123456789')\n",
    "\n",
    "def GetContours(img):\n",
    "    # Prep image\n",
    "    imgray = cv2.cvtColor(img, cv2.COLOR_BGR2GRAY)\n",
    "    ret, thresh = cv2.threshold(imgray, 127, 255, 0)\n",
    "    # Run contour analysis, sort by contour area (descending)\n",
    "    im2, contours, hierarchy = cv2.findContours(thresh, cv2.RETR_TREE, cv2.CHAIN_APPROX_SIMPLE)\n",
    "    contours = sorted(contours, key=cv2.contourArea, reverse = True)\n",
    "    return(contours)\n",
    "\n",
    "def CropImage(img, contour):\n",
    "    (x, y, w, h) = cv2.boundingRect(contour)\n",
    "    crop_img = img[y:y+h, x:x+w]\n",
    "    return(crop_img)\n",
    "\n",
    "def TesseractText(img):\n",
    "    text = pytesseract.image_to_string(img, config=config)\n",
    "    counts = list(map(int, text.split()))\n",
    "    return(counts)\n",
    "\n",
    "def ExtractCellVal(cells, img):\n",
    "    vol = []\n",
    "    # for each cell, crop & extract text\n",
    "    for cell in cells:\n",
    "        (x, y, w, h) = cell[1], cell[2], cell[3], cell[4]\n",
    "        crop_img = img[y:y+h, x:x+w]\n",
    "        val = TesseractText(crop_img)\n",
    "        vol.append(val[0])\n",
    "    return(vol)\n",
    "    \n",
    "def SortPedCells(contours):\n",
    "    # Get the bounding box of each contour\n",
    "    contour_list = []\n",
    "    contour_len = len(contours)\n",
    "    for contour in contours:\n",
    "        (x, y, w, h) = cv2.boundingRect(contour)\n",
    "        contour_list.append([contour, x, y, w, h])\n",
    "    contour_a = np.array(contour_list)\n",
    "    # Sort by x coordinate, split by number of columns (in this case, 2)\n",
    "    contour_a = contour_a[contour_a[:,1].argsort()]\n",
    "    pedvol = contour_a[:6]\n",
    "    schvol = contour_a[6:]\n",
    "    # Sort top to bottom (descending) by y coordinate\n",
    "    pedvol = pedvol[pedvol[:,2].argsort()]\n",
    "    schvol = schvol[schvol[:,2].argsort()]\n",
    "    return(pedvol, schvol)\n",
    "    \n",
    "def AnalyzePedCrossingTable(img, pedtbl_contour):\n",
    "    # Crop Image, get new contours\n",
    "    crop_img = CropImage(img, pedtbl_contour[0])\n",
    "    pedvol_contours = GetContours(crop_img)\n",
    "    pedvol_cells = pedvol_contours[2:14]\n",
    "    pedvol_cells, schvol_cells = SortPedCells(pedvol_cells)\n",
    "    pedvol = ExtractCellVal(pedvol_cells, crop_img)\n",
    "    schvol = ExtractCellVal(schvol_cells, crop_img)\n",
    "    return(dict([(\"Ped\", pedvol), (\"Sch\", schvol)]))\n",
    "    \n",
    "def GetPedData(img):\n",
    "    ped_tbl_contours = GetContours(img)[5:9]\n",
    "    ped_tbls = []\n",
    "    for ped_tbl_contour in ped_tbl_contours:\n",
    "        (x, y, w, h) = cv2.boundingRect(ped_tbl_contour)\n",
    "        ped_tbls.append([ped_tbl_contour, x, y, w, h])\n",
    "    ped_tbls = np.array(ped_tbls)\n",
    "    ped_tbls = sorted(ped_tbls, key=itemgetter(1))\n",
    "    ped_tbls = sorted(ped_tbls, key=itemgetter(2))\n",
    "    \n",
    "    ped_sch_extract = {}\n",
    "    ped_sch_extract['SL'] = AnalyzePedCrossingTable(img, ped_tbls[:1][0])\n",
    "    ped_sch_extract['NL'] = AnalyzePedCrossingTable(img, ped_tbls[1:2][0])\n",
    "    ped_sch_extract['WL'] = AnalyzePedCrossingTable(img, ped_tbls[2:3][0])\n",
    "    ped_sch_extract['EL'] = AnalyzePedCrossingTable(img, ped_tbls[3:4][0])\n",
    "    \n",
    "    # Format as final df\n",
    "    ped_sch_data = []\n",
    "    for leg in ped_sch_extract:\n",
    "        for pedtype in ped_sch_extract[leg]:\n",
    "\n",
    "            ped_sch_dict = {}\n",
    "            ped_sch_dict['xing_leg'] = leg\n",
    "            ped_sch_dict['type'] = pedtype\n",
    "            ped_sch_dict['volume'] = sum(ped_sch_extract[leg][pedtype])\n",
    "            ped_sch_data.append(ped_sch_dict)\n",
    "    \n",
    "    return(ped_sch_data)"
   ]
  },
  {
   "cell_type": "markdown",
   "metadata": {},
   "source": [
    "After extracting pedestrian volume data from these sheets, I assembled data from the built environment that I thought could possibly be significant in predicting pedestrian volume at intersections in Los Angeles. These data are public, but were assembled for a previous project at LADOT.  I looked to the literature review to inform the types of data to collect for evaluating. My built environment data (explanatory variables) include:\n",
    "* Population within 0.25 mi.  (‘SUM_POPTTL’)\n",
    "* Employment within 0.25 mi. (‘EMPTOT’)\n",
    "* Count of Schools within 0.25 mi. (‘SCH_CT’)\n",
    "* Presence of a traffic signal (‘SIG’, 1 = yes, 0 = no)\n",
    "* Count of transit stops within 100 ft. (‘TRANSITSTOP’)\n",
    "* Transit Ridership (‘RIDERSHIP’)"
   ]
  },
  {
   "cell_type": "markdown",
   "metadata": {},
   "source": [
    "#### Data Cleaning\n",
    "After completing the data assembly process, I inspected outlier values for the pedestrian volume counts and found a few records where my OCR method of extracting volume counts had produced an error. "
   ]
  },
  {
   "cell_type": "code",
   "execution_count": 15,
   "metadata": {},
   "outputs": [
    {
     "data": {
      "text/plain": [
       "array([[<matplotlib.axes._subplots.AxesSubplot object at 0x0000027C20218F98>]], dtype=object)"
      ]
     },
     "execution_count": 15,
     "metadata": {},
     "output_type": "execute_result"
    },
    {
     "data": {
      "image/png": "[encoded data removed]",
      "text/plain": [
       "<Figure size 432x288 with 1 Axes>"
      ]
     },
     "metadata": {},
     "output_type": "display_data"
    }
   ],
   "source": [
    "# Import assembled data, show histogram\n",
    "pre_data = pd.read_csv('data/FeatureData/featurescombined.csv')\n",
    "vol_hist = data.hist(column='volume', grid=False)\n",
    "vol_hist"
   ]
  },
  {
   "cell_type": "markdown",
   "metadata": {},
   "source": [
    "Worried that there was a systematic error in my data processing, I randomly sampled 50 other volume totals. However, among those 50 sampled counts, 100% of them matched up with my totals in the data set. I concluded that the errors were mostly likely limited to those outlier totals.\n",
    "\n",
    "After conducting the quality control process, I also split the dataset into two different parts: (1) features and data that are relevant for the regression model, and (2) features related to the organization of the data (intersection name, etc.) and not to the model itself. The final data set, which included both the extracted volumes and the built environment data, looked like the following:"
   ]
  },
  {
   "cell_type": "code",
   "execution_count": 13,
   "metadata": {},
   "outputs": [
    {
     "name": "stdout",
     "output_type": "stream",
     "text": [
      "   volume  SIG  TRANSITSTOP  RIDERSHIP  SCH_CT      EMPTOT  SUM_POPTTL\n",
      "0       9  1.0          1.0        4.0       0  211.024148    7.026113\n"
     ]
    }
   ],
   "source": [
    "# Drop Unnecessary columns, export final table\n",
    "clean_data = pre_data.drop(['Unnamed: 0', 'count_id','cl_node_id', 'location', 'traffic_id', 'type',\n",
    "                      'file', 'OBJECTID', 'ASSETID', 'CL_NODE_ID', 'LAT', 'LON', 'FROM_ST', 'TO_ST'], axis=1)\n",
    "print(clean_data.head(n=1))"
   ]
  },
  {
   "cell_type": "code",
   "execution_count": 16,
   "metadata": {},
   "outputs": [],
   "source": [
    "# here i need to fill the ridership NA values with 0. This is because a NA value is a result of there being no stop within 100ft,\n",
    "# so we can assume that ridership within 100ft of that stop is 0"
   ]
  },
  {
   "cell_type": "code",
   "execution_count": null,
   "metadata": {},
   "outputs": [],
   "source": [
    "# here I should export the resulting table to CSV"
   ]
  },
  {
   "cell_type": "markdown",
   "metadata": {},
   "source": [
    "### Implementation\n",
    "In this section, the process for which metrics, algorithms, and techniques that you implemented for the given data will need to be clearly documented. It should be abundantly clear how the implementation was carried out, and discussion should be made regarding any complications that occurred during this process. Questions to ask yourself when writing this section:\n",
    "- _Is it made clear how the algorithms and techniques were implemented with the given datasets or input data?_\n",
    "- _Were there any complications with the original metrics or techniques that required changing prior to acquiring a solution?_\n",
    "- _Was there any part of the coding process (e.g., writing complicated functions) that should be documented?_"
   ]
  },
  {
   "cell_type": "code",
   "execution_count": 15,
   "metadata": {},
   "outputs": [
    {
     "data": {
      "text/html": [
       "<div>\n",
       "<style scoped>\n",
       "    .dataframe tbody tr th:only-of-type {\n",
       "        vertical-align: middle;\n",
       "    }\n",
       "\n",
       "    .dataframe tbody tr th {\n",
       "        vertical-align: top;\n",
       "    }\n",
       "\n",
       "    .dataframe thead th {\n",
       "        text-align: right;\n",
       "    }\n",
       "</style>\n",
       "<table border=\"1\" class=\"dataframe\">\n",
       "  <thead>\n",
       "    <tr style=\"text-align: right;\">\n",
       "      <th></th>\n",
       "      <th>SIG</th>\n",
       "      <th>TRANSITSTOP</th>\n",
       "      <th>RIDERSHIP</th>\n",
       "      <th>SCH_CT</th>\n",
       "      <th>EMPTOT</th>\n",
       "      <th>SUM_POPTTL</th>\n",
       "    </tr>\n",
       "  </thead>\n",
       "  <tbody>\n",
       "    <tr>\n",
       "      <th>count</th>\n",
       "      <td>1666.000000</td>\n",
       "      <td>1666.000000</td>\n",
       "      <td>771.000000</td>\n",
       "      <td>1666.000000</td>\n",
       "      <td>1666.000000</td>\n",
       "      <td>1666.000000</td>\n",
       "    </tr>\n",
       "    <tr>\n",
       "      <th>mean</th>\n",
       "      <td>0.550420</td>\n",
       "      <td>0.987995</td>\n",
       "      <td>1021.756541</td>\n",
       "      <td>0.755102</td>\n",
       "      <td>2245.584710</td>\n",
       "      <td>2653.204961</td>\n",
       "    </tr>\n",
       "    <tr>\n",
       "      <th>std</th>\n",
       "      <td>0.497601</td>\n",
       "      <td>1.356059</td>\n",
       "      <td>5736.060901</td>\n",
       "      <td>0.956747</td>\n",
       "      <td>5254.050911</td>\n",
       "      <td>1875.192695</td>\n",
       "    </tr>\n",
       "    <tr>\n",
       "      <th>min</th>\n",
       "      <td>0.000000</td>\n",
       "      <td>0.000000</td>\n",
       "      <td>0.000000</td>\n",
       "      <td>0.000000</td>\n",
       "      <td>14.084445</td>\n",
       "      <td>0.000000</td>\n",
       "    </tr>\n",
       "    <tr>\n",
       "      <th>25%</th>\n",
       "      <td>0.000000</td>\n",
       "      <td>0.000000</td>\n",
       "      <td>49.000000</td>\n",
       "      <td>0.000000</td>\n",
       "      <td>320.761690</td>\n",
       "      <td>1276.519207</td>\n",
       "    </tr>\n",
       "    <tr>\n",
       "      <th>50%</th>\n",
       "      <td>1.000000</td>\n",
       "      <td>0.000000</td>\n",
       "      <td>155.000000</td>\n",
       "      <td>0.000000</td>\n",
       "      <td>735.917524</td>\n",
       "      <td>2234.350076</td>\n",
       "    </tr>\n",
       "    <tr>\n",
       "      <th>75%</th>\n",
       "      <td>1.000000</td>\n",
       "      <td>2.000000</td>\n",
       "      <td>574.153846</td>\n",
       "      <td>1.000000</td>\n",
       "      <td>1862.655654</td>\n",
       "      <td>3528.763198</td>\n",
       "    </tr>\n",
       "    <tr>\n",
       "      <th>max</th>\n",
       "      <td>1.000000</td>\n",
       "      <td>7.000000</td>\n",
       "      <td>104376.101400</td>\n",
       "      <td>7.000000</td>\n",
       "      <td>60793.278700</td>\n",
       "      <td>12858.609440</td>\n",
       "    </tr>\n",
       "  </tbody>\n",
       "</table>\n",
       "</div>"
      ],
      "text/plain": [
       "               SIG  TRANSITSTOP      RIDERSHIP       SCH_CT        EMPTOT  \\\n",
       "count  1666.000000  1666.000000     771.000000  1666.000000   1666.000000   \n",
       "mean      0.550420     0.987995    1021.756541     0.755102   2245.584710   \n",
       "std       0.497601     1.356059    5736.060901     0.956747   5254.050911   \n",
       "min       0.000000     0.000000       0.000000     0.000000     14.084445   \n",
       "25%       0.000000     0.000000      49.000000     0.000000    320.761690   \n",
       "50%       1.000000     0.000000     155.000000     0.000000    735.917524   \n",
       "75%       1.000000     2.000000     574.153846     1.000000   1862.655654   \n",
       "max       1.000000     7.000000  104376.101400     7.000000  60793.278700   \n",
       "\n",
       "         SUM_POPTTL  \n",
       "count   1666.000000  \n",
       "mean    2653.204961  \n",
       "std     1875.192695  \n",
       "min        0.000000  \n",
       "25%     1276.519207  \n",
       "50%     2234.350076  \n",
       "75%     3528.763198  \n",
       "max    12858.609440  "
      ]
     },
     "execution_count": 15,
     "metadata": {},
     "output_type": "execute_result"
    }
   ],
   "source": [
    "from sklearn import linear_model\n",
    "\n",
    "volume_raw = data['volume']\n",
    "features_raw = data.drop('volume', axis=1)\n",
    "\n",
    "volume_raw.describe()\n",
    "features_raw.describe()"
   ]
  },
  {
   "cell_type": "markdown",
   "metadata": {},
   "source": [
    "### Refinement\n",
    "In this section, you will need to discuss the process of improvement you made upon the algorithms and techniques you used in your implementation. For example, adjusting parameters for certain models to acquire improved solutions would fall under the refinement category. Your initial and final solutions should be reported, as well as any significant intermediate results as necessary. Questions to ask yourself when writing this section:\n",
    "- _Has an initial solution been found and clearly reported?_\n",
    "- _Is the process of improvement clearly documented, such as what techniques were used?_\n",
    "- _Are intermediate and final solutions clearly reported as the process is improved?_"
   ]
  },
  {
   "cell_type": "markdown",
   "metadata": {},
   "source": [
    "## IV. Results\n",
    "_(approx. 2-3 pages)_\n",
    "\n",
    "### Model Evaluation and Validation\n",
    "In this section, the final model and any supporting qualities should be evaluated in detail. It should be clear how the final model was derived and why this model was chosen. In addition, some type of analysis should be used to validate the robustness of this model and its solution, such as manipulating the input data or environment to see how the model’s solution is affected (this is called sensitivity analysis). Questions to ask yourself when writing this section:\n",
    "- _Is the final model reasonable and aligning with solution expectations? Are the final parameters of the model appropriate?_\n",
    "- _Has the final model been tested with various inputs to evaluate whether the model generalizes well to unseen data?_\n",
    "- _Is the model robust enough for the problem? Do small perturbations (changes) in training data or the input space greatly affect the results?_\n",
    "- _Can results found from the model be trusted?_\n",
    "\n",
    "### Justification\n",
    "In this section, your model’s final solution and its results should be compared to the benchmark you established earlier in the project using some type of statistical analysis. You should also justify whether these results and the solution are significant enough to have solved the problem posed in the project. Questions to ask yourself when writing this section:\n",
    "- _Are the final results found stronger than the benchmark result reported earlier?_\n",
    "- _Have you thoroughly analyzed and discussed the final solution?_\n",
    "- _Is the final solution significant enough to have solved the problem?_"
   ]
  },
  {
   "cell_type": "markdown",
   "metadata": {},
   "source": [
    "## V. Conclusion\n",
    "_(approx. 1-2 pages)_\n",
    "\n",
    "### Free-Form Visualization\n",
    "In this section, you will need to provide some form of visualization that emphasizes an important quality about the project. It is much more free-form, but should reasonably support a significant result or characteristic about the problem that you want to discuss. Questions to ask yourself when writing this section:\n",
    "- _Have you visualized a relevant or important quality about the problem, dataset, input data, or results?_\n",
    "- _Is the visualization thoroughly analyzed and discussed?_\n",
    "- _If a plot is provided, are the axes, title, and datum clearly defined?_\n",
    "\n",
    "### Reflection\n",
    "In this section, you will summarize the entire end-to-end problem solution and discuss one or two particular aspects of the project you found interesting or difficult. You are expected to reflect on the project as a whole to show that you have a firm understanding of the entire process employed in your work. Questions to ask yourself when writing this section:\n",
    "- _Have you thoroughly summarized the entire process you used for this project?_\n",
    "- _Were there any interesting aspects of the project?_\n",
    "- _Were there any difficult aspects of the project?_\n",
    "- _Does the final model and solution fit your expectations for the problem, and should it be used in a general setting to solve these types of problems?_\n",
    "\n",
    "The most challenging aspect of the project was the preprocessing of the data. I spent a considerable amount of time familiarizing myself with the OpenCV library so that I could employ it on this task. Before implementing the OpenCV / OCR solution to process the data, I originally tried to read the data using PDF text extraction tools; however, the performance using those tools was quite poor, and I didn't feel that it would be relaible enough for this project. \n",
    "\n",
    "### Improvement\n",
    "In this section, you will need to provide discussion as to how one aspect of the implementation you designed could be improved. As an example, consider ways your implementation can be made more general, and what would need to be modified. You do not need to make this improvement, but the potential solutions resulting from these changes are considered and compared/contrasted to your current solution. Questions to ask yourself when writing this section:\n",
    "- _Are there further improvements that could be made on the algorithms or techniques you used in this project?_\n",
    "- _Were there algorithms or techniques you researched that you did not know how to implement, but would consider using if you knew how?_\n",
    "- _If you used your final solution as the new benchmark, do you think an even better solution exists?_\n",
    "\n",
    "In this case, I think I could build a more robust model with more data. The OpenCV / OCR solution was limited to the ~1.6K sheets I could process using this method; however, there were roughly 5k sheets (in a similar but different PDF format) that I was unable to process. If I was able to get all those sheets transcribed, this would increase the amount of training data by 4x.  Beyond what I will be able to get from these historical counts, the field of machine learning has advanced to the point where we can now install cameras and get much larger datasets on ped volume counts. The City of Los Angeles has not yet implemented this strategy for collecting pedestrian counts; however, it is only a matter of time before that becomes standard in many cities. When this does happen, we will have much more \n",
    "\n",
    "In addition to having more volume data, I am sure that I could also build a better model using more data from the built environment. I was able to assemble the data that the literature has shown to be the most important in terms of predicting pedestrian volume; however, I was not able to get the range of data that other researchers have examined. It is also possible that there is some aspect of the built environment that is important but has not yet been revealed in the research. "
   ]
  },
  {
   "cell_type": "markdown",
   "metadata": {},
   "source": [
    "## VI. References\n",
    "1. Schneider, R. J., T. Henry, M. F. Mitman, L. Stonehill, and J. Koehler. Development and Application of a Pedestrian Volume Model in San Francisco. Transportation Research Record: Journal of the Transportation Research Board, No. 2299, 2012, pp. 65–78.\n",
    "2. Liu, X., and J. Griswold. Pedestrian Volume Modeling: A Case Study of San Francisco. Association of Pacific Coast Geographers Yearbook, Vol. 71, 2009.\n",
    "3. Pulugurtha, S. S., and S. R. Repaka. Assessment of Models to Measure Pedestrian Activity at Signalized Intersections. In Transportation Research Record: Journal of the Transportation Research Board, No. 2073, Transportation Research Board of the National Academies, Washington, D.C., 2008, pp. 39-48.\n",
    "4. Schneider, R. J., L. S. Arnold, and D. R. Ragland. Pilot Model for Estimating Pedestrian Intersection Crossing Volumes. In Transportation Research Record: Journal of the Transportation Research Board, No. 2140, Transportation Research Board of the National Academies, Washington, D.C., 2009, pp. 13-26.\n",
    "5. Jones, M. G., S. Ryan, J. Donlan, L. Ledbetter, L. Arnold, and D. Ragland. Seamless Travel: Measuring Bicycle and Pedestrian Activity in San Diego County and Its Relationship to Land Use, Transportation, Safety, and Facility Type. Alta Planning and Design and Safe Transportation Research and Education Center, University of California, Berkeley, 2010.\n",
    "6. Haynes, M., and S. Andrzejewski. GIS Based Bicycle & Pedestrian Demand Forecasting Techniques. Presentation to Travel Model Improvement Program, U.S. Department of Transportation. Fehr & Peers Transportation Consultants, San Francisco, Calif., 2010.\n",
    "7. Miranda-Moreno, L. F., and D. Fernandes. Modeling of Pedestrian Activity at Signalized Intersections: Land Use, Urban Form, Weather, and Spatiotemporal Patterns. In Transportation Research Record: Journal of the Transportation Research Board, No. 2264, Transportation Research Board of the National Academies, Washington, D.C., 2011, pp. 74-82."
   ]
  },
  {
   "cell_type": "code",
   "execution_count": null,
   "metadata": {
    "collapsed": true
   },
   "outputs": [],
   "source": []
  }
 ],
 "metadata": {
  "kernelspec": {
   "display_name": "Python [default]",
   "language": "python",
   "name": "python3"
  },
  "language_info": {
   "codemirror_mode": {
    "name": "ipython",
    "version": 3
   },
   "file_extension": ".py",
   "mimetype": "text/x-python",
   "name": "python",
   "nbconvert_exporter": "python",
   "pygments_lexer": "ipython3",
   "version": "3.6.5"
  }
 },
 "nbformat": 4,
 "nbformat_minor": 2
}
